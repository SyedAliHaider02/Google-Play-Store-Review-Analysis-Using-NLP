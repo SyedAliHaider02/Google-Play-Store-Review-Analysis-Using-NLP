{
 "cells": [
  {
   "cell_type": "code",
   "execution_count": 1,
   "id": "b8ecbcf1",
   "metadata": {},
   "outputs": [],
   "source": [
    "import pandas as pd\n",
    "import numpy as np\n",
    "import matplotlib.pyplot as plt\n",
    "import seaborn as sns\n",
    "%matplotlib inline"
   ]
  },
  {
   "cell_type": "code",
   "execution_count": 2,
   "id": "333394c6",
   "metadata": {},
   "outputs": [],
   "source": [
    "df = pd.read_csv('reviews.csv')"
   ]
  },
  {
   "cell_type": "code",
   "execution_count": 3,
   "id": "d05e4968",
   "metadata": {},
   "outputs": [
    {
     "data": {
      "text/html": [
       "<div>\n",
       "<style scoped>\n",
       "    .dataframe tbody tr th:only-of-type {\n",
       "        vertical-align: middle;\n",
       "    }\n",
       "\n",
       "    .dataframe tbody tr th {\n",
       "        vertical-align: top;\n",
       "    }\n",
       "\n",
       "    .dataframe thead th {\n",
       "        text-align: right;\n",
       "    }\n",
       "</style>\n",
       "<table border=\"1\" class=\"dataframe\">\n",
       "  <thead>\n",
       "    <tr style=\"text-align: right;\">\n",
       "      <th></th>\n",
       "      <th>reviewId</th>\n",
       "      <th>userName</th>\n",
       "      <th>userImage</th>\n",
       "      <th>content</th>\n",
       "      <th>score</th>\n",
       "      <th>thumbsUpCount</th>\n",
       "      <th>reviewCreatedVersion</th>\n",
       "      <th>at</th>\n",
       "      <th>replyContent</th>\n",
       "      <th>repliedAt</th>\n",
       "      <th>appVersion</th>\n",
       "      <th>sortOrder</th>\n",
       "      <th>appId</th>\n",
       "    </tr>\n",
       "  </thead>\n",
       "  <tbody>\n",
       "    <tr>\n",
       "      <th>0</th>\n",
       "      <td>f124c390-90c3-4153-9ca1-8e80c0f30a2c</td>\n",
       "      <td>Nathalia Dal Bello</td>\n",
       "      <td>https://play-lh.googleusercontent.com/a-/ACB-R...</td>\n",
       "      <td>O aplicativo era ótimo, os descontos eram ótim...</td>\n",
       "      <td>1</td>\n",
       "      <td>3753</td>\n",
       "      <td>9.190.0</td>\n",
       "      <td>2023-01-23 20:52:04</td>\n",
       "      <td>NaN</td>\n",
       "      <td>NaN</td>\n",
       "      <td>9.190.0</td>\n",
       "      <td>most_relevant</td>\n",
       "      <td>br.com.brainweb.ifood</td>\n",
       "    </tr>\n",
       "    <tr>\n",
       "      <th>1</th>\n",
       "      <td>ce308907-5ebe-493e-b87a-0a12e0f4c1c5</td>\n",
       "      <td>Kenzo Osanai</td>\n",
       "      <td>https://play-lh.googleusercontent.com/a-/ACB-R...</td>\n",
       "      <td>Pior experiência que tive de suporte com um ap...</td>\n",
       "      <td>1</td>\n",
       "      <td>1452</td>\n",
       "      <td>9.191.0</td>\n",
       "      <td>2023-01-31 00:38:30</td>\n",
       "      <td>NaN</td>\n",
       "      <td>NaN</td>\n",
       "      <td>9.191.0</td>\n",
       "      <td>most_relevant</td>\n",
       "      <td>br.com.brainweb.ifood</td>\n",
       "    </tr>\n",
       "    <tr>\n",
       "      <th>2</th>\n",
       "      <td>0dc5a70e-8d04-4b5e-84b3-e1bcb922557b</td>\n",
       "      <td>Silvia Miranda</td>\n",
       "      <td>https://play-lh.googleusercontent.com/a-/ACB-R...</td>\n",
       "      <td>Não resolvem o problema do filtro. Filtro para...</td>\n",
       "      <td>1</td>\n",
       "      <td>12</td>\n",
       "      <td>9.204.0</td>\n",
       "      <td>2023-05-03 15:34:29</td>\n",
       "      <td>NaN</td>\n",
       "      <td>NaN</td>\n",
       "      <td>9.204.0</td>\n",
       "      <td>most_relevant</td>\n",
       "      <td>br.com.brainweb.ifood</td>\n",
       "    </tr>\n",
       "    <tr>\n",
       "      <th>3</th>\n",
       "      <td>accff4a0-f70e-485a-a85d-04fe3a2e7238</td>\n",
       "      <td>Bárbara Figueiredo</td>\n",
       "      <td>https://play-lh.googleusercontent.com/a-/ACB-R...</td>\n",
       "      <td>85% das compras chegam erradas, incompletas ou...</td>\n",
       "      <td>1</td>\n",
       "      <td>63</td>\n",
       "      <td>9.204.0</td>\n",
       "      <td>2023-05-01 17:47:53</td>\n",
       "      <td>NaN</td>\n",
       "      <td>NaN</td>\n",
       "      <td>9.204.0</td>\n",
       "      <td>most_relevant</td>\n",
       "      <td>br.com.brainweb.ifood</td>\n",
       "    </tr>\n",
       "    <tr>\n",
       "      <th>4</th>\n",
       "      <td>ec2fc975-0f38-4c2e-81c1-7b9dc7398faf</td>\n",
       "      <td>Pedro Renhe</td>\n",
       "      <td>https://play-lh.googleusercontent.com/a/AGNmyx...</td>\n",
       "      <td>O aplicativo já foi melhor, tinha mais cupons ...</td>\n",
       "      <td>1</td>\n",
       "      <td>37</td>\n",
       "      <td>9.202.1</td>\n",
       "      <td>2023-04-17 23:28:02</td>\n",
       "      <td>NaN</td>\n",
       "      <td>NaN</td>\n",
       "      <td>9.202.1</td>\n",
       "      <td>most_relevant</td>\n",
       "      <td>br.com.brainweb.ifood</td>\n",
       "    </tr>\n",
       "  </tbody>\n",
       "</table>\n",
       "</div>"
      ],
      "text/plain": [
       "                               reviewId            userName  \\\n",
       "0  f124c390-90c3-4153-9ca1-8e80c0f30a2c  Nathalia Dal Bello   \n",
       "1  ce308907-5ebe-493e-b87a-0a12e0f4c1c5        Kenzo Osanai   \n",
       "2  0dc5a70e-8d04-4b5e-84b3-e1bcb922557b      Silvia Miranda   \n",
       "3  accff4a0-f70e-485a-a85d-04fe3a2e7238  Bárbara Figueiredo   \n",
       "4  ec2fc975-0f38-4c2e-81c1-7b9dc7398faf         Pedro Renhe   \n",
       "\n",
       "                                           userImage  \\\n",
       "0  https://play-lh.googleusercontent.com/a-/ACB-R...   \n",
       "1  https://play-lh.googleusercontent.com/a-/ACB-R...   \n",
       "2  https://play-lh.googleusercontent.com/a-/ACB-R...   \n",
       "3  https://play-lh.googleusercontent.com/a-/ACB-R...   \n",
       "4  https://play-lh.googleusercontent.com/a/AGNmyx...   \n",
       "\n",
       "                                             content  score  thumbsUpCount  \\\n",
       "0  O aplicativo era ótimo, os descontos eram ótim...      1           3753   \n",
       "1  Pior experiência que tive de suporte com um ap...      1           1452   \n",
       "2  Não resolvem o problema do filtro. Filtro para...      1             12   \n",
       "3  85% das compras chegam erradas, incompletas ou...      1             63   \n",
       "4  O aplicativo já foi melhor, tinha mais cupons ...      1             37   \n",
       "\n",
       "  reviewCreatedVersion                   at replyContent repliedAt appVersion  \\\n",
       "0              9.190.0  2023-01-23 20:52:04          NaN       NaN    9.190.0   \n",
       "1              9.191.0  2023-01-31 00:38:30          NaN       NaN    9.191.0   \n",
       "2              9.204.0  2023-05-03 15:34:29          NaN       NaN    9.204.0   \n",
       "3              9.204.0  2023-05-01 17:47:53          NaN       NaN    9.204.0   \n",
       "4              9.202.1  2023-04-17 23:28:02          NaN       NaN    9.202.1   \n",
       "\n",
       "       sortOrder                  appId  \n",
       "0  most_relevant  br.com.brainweb.ifood  \n",
       "1  most_relevant  br.com.brainweb.ifood  \n",
       "2  most_relevant  br.com.brainweb.ifood  \n",
       "3  most_relevant  br.com.brainweb.ifood  \n",
       "4  most_relevant  br.com.brainweb.ifood  "
      ]
     },
     "execution_count": 3,
     "metadata": {},
     "output_type": "execute_result"
    }
   ],
   "source": [
    "df.head()"
   ]
  },
  {
   "cell_type": "code",
   "execution_count": 6,
   "id": "3878a503",
   "metadata": {},
   "outputs": [
    {
     "name": "stdout",
     "output_type": "stream",
     "text": [
      "<class 'pandas.core.frame.DataFrame'>\n",
      "RangeIndex: 10800 entries, 0 to 10799\n",
      "Data columns (total 13 columns):\n",
      " #   Column                Non-Null Count  Dtype \n",
      "---  ------                --------------  ----- \n",
      " 0   reviewId              10800 non-null  object\n",
      " 1   userName              10800 non-null  object\n",
      " 2   userImage             10800 non-null  object\n",
      " 3   content               10800 non-null  object\n",
      " 4   score                 10800 non-null  int64 \n",
      " 5   thumbsUpCount         10800 non-null  int64 \n",
      " 6   reviewCreatedVersion  9886 non-null   object\n",
      " 7   at                    10800 non-null  object\n",
      " 8   replyContent          2402 non-null   object\n",
      " 9   repliedAt             2402 non-null   object\n",
      " 10  appVersion            9886 non-null   object\n",
      " 11  sortOrder             10800 non-null  object\n",
      " 12  appId                 10800 non-null  object\n",
      "dtypes: int64(2), object(11)\n",
      "memory usage: 1.1+ MB\n"
     ]
    }
   ],
   "source": [
    "df.info()"
   ]
  },
  {
   "cell_type": "code",
   "execution_count": 7,
   "id": "4b48c90f",
   "metadata": {},
   "outputs": [
    {
     "data": {
      "text/html": [
       "<div>\n",
       "<style scoped>\n",
       "    .dataframe tbody tr th:only-of-type {\n",
       "        vertical-align: middle;\n",
       "    }\n",
       "\n",
       "    .dataframe tbody tr th {\n",
       "        vertical-align: top;\n",
       "    }\n",
       "\n",
       "    .dataframe thead th {\n",
       "        text-align: right;\n",
       "    }\n",
       "</style>\n",
       "<table border=\"1\" class=\"dataframe\">\n",
       "  <thead>\n",
       "    <tr style=\"text-align: right;\">\n",
       "      <th></th>\n",
       "      <th>score</th>\n",
       "      <th>thumbsUpCount</th>\n",
       "    </tr>\n",
       "  </thead>\n",
       "  <tbody>\n",
       "    <tr>\n",
       "      <th>count</th>\n",
       "      <td>10800.000000</td>\n",
       "      <td>10800.000000</td>\n",
       "    </tr>\n",
       "    <tr>\n",
       "      <th>mean</th>\n",
       "      <td>3.000000</td>\n",
       "      <td>12.359630</td>\n",
       "    </tr>\n",
       "    <tr>\n",
       "      <th>std</th>\n",
       "      <td>1.291054</td>\n",
       "      <td>89.801715</td>\n",
       "    </tr>\n",
       "    <tr>\n",
       "      <th>min</th>\n",
       "      <td>1.000000</td>\n",
       "      <td>0.000000</td>\n",
       "    </tr>\n",
       "    <tr>\n",
       "      <th>25%</th>\n",
       "      <td>2.000000</td>\n",
       "      <td>0.000000</td>\n",
       "    </tr>\n",
       "    <tr>\n",
       "      <th>50%</th>\n",
       "      <td>3.000000</td>\n",
       "      <td>0.000000</td>\n",
       "    </tr>\n",
       "    <tr>\n",
       "      <th>75%</th>\n",
       "      <td>4.000000</td>\n",
       "      <td>1.000000</td>\n",
       "    </tr>\n",
       "    <tr>\n",
       "      <th>max</th>\n",
       "      <td>5.000000</td>\n",
       "      <td>3753.000000</td>\n",
       "    </tr>\n",
       "  </tbody>\n",
       "</table>\n",
       "</div>"
      ],
      "text/plain": [
       "              score  thumbsUpCount\n",
       "count  10800.000000   10800.000000\n",
       "mean       3.000000      12.359630\n",
       "std        1.291054      89.801715\n",
       "min        1.000000       0.000000\n",
       "25%        2.000000       0.000000\n",
       "50%        3.000000       0.000000\n",
       "75%        4.000000       1.000000\n",
       "max        5.000000    3753.000000"
      ]
     },
     "execution_count": 7,
     "metadata": {},
     "output_type": "execute_result"
    }
   ],
   "source": [
    "df.describe()"
   ]
  },
  {
   "cell_type": "code",
   "execution_count": 8,
   "id": "a23831db",
   "metadata": {},
   "outputs": [],
   "source": [
    "df= df.drop(['replyContent','repliedAt'],axis=1)"
   ]
  },
  {
   "cell_type": "code",
   "execution_count": 10,
   "id": "b7eb8f51",
   "metadata": {},
   "outputs": [
    {
     "data": {
      "text/plain": [
       "<AxesSubplot: >"
      ]
     },
     "execution_count": 10,
     "metadata": {},
     "output_type": "execute_result"
    },
    {
     "data": {
      "image/png": "[encoded data removed]",
      "text/plain": [
       "<Figure size 640x480 with 2 Axes>"
      ]
     },
     "metadata": {},
     "output_type": "display_data"
    }
   ],
   "source": [
    "sns.heatmap(df.isnull())"
   ]
  },
  {
   "cell_type": "code",
   "execution_count": 13,
   "id": "143f4080",
   "metadata": {},
   "outputs": [],
   "source": [
    "df=df.dropna()"
   ]
  },
  {
   "cell_type": "code",
   "execution_count": 14,
   "id": "1dfa33d0",
   "metadata": {},
   "outputs": [
    {
     "data": {
      "text/plain": [
       "reviewId                0\n",
       "userName                0\n",
       "userImage               0\n",
       "content                 0\n",
       "score                   0\n",
       "thumbsUpCount           0\n",
       "reviewCreatedVersion    0\n",
       "at                      0\n",
       "appVersion              0\n",
       "sortOrder               0\n",
       "appId                   0\n",
       "dtype: int64"
      ]
     },
     "execution_count": 14,
     "metadata": {},
     "output_type": "execute_result"
    }
   ],
   "source": [
    "df.isnull().sum()"
   ]
  },
  {
   "cell_type": "code",
   "execution_count": 15,
   "id": "5fc1e7b1",
   "metadata": {},
   "outputs": [
    {
     "data": {
      "text/plain": [
       "(9886, 11)"
      ]
     },
     "execution_count": 15,
     "metadata": {},
     "output_type": "execute_result"
    }
   ],
   "source": [
    "df.shape"
   ]
  },
  {
   "cell_type": "code",
   "execution_count": 18,
   "id": "d25a6d6d",
   "metadata": {},
   "outputs": [],
   "source": [
    "df_new=df[(df.score==1) | (df.score==5)]"
   ]
  },
  {
   "cell_type": "code",
   "execution_count": 19,
   "id": "f4e158da",
   "metadata": {},
   "outputs": [
    {
     "data": {
      "text/html": [
       "<div>\n",
       "<style scoped>\n",
       "    .dataframe tbody tr th:only-of-type {\n",
       "        vertical-align: middle;\n",
       "    }\n",
       "\n",
       "    .dataframe tbody tr th {\n",
       "        vertical-align: top;\n",
       "    }\n",
       "\n",
       "    .dataframe thead th {\n",
       "        text-align: right;\n",
       "    }\n",
       "</style>\n",
       "<table border=\"1\" class=\"dataframe\">\n",
       "  <thead>\n",
       "    <tr style=\"text-align: right;\">\n",
       "      <th></th>\n",
       "      <th>reviewId</th>\n",
       "      <th>userName</th>\n",
       "      <th>userImage</th>\n",
       "      <th>content</th>\n",
       "      <th>score</th>\n",
       "      <th>thumbsUpCount</th>\n",
       "      <th>reviewCreatedVersion</th>\n",
       "      <th>at</th>\n",
       "      <th>appVersion</th>\n",
       "      <th>sortOrder</th>\n",
       "      <th>appId</th>\n",
       "    </tr>\n",
       "  </thead>\n",
       "  <tbody>\n",
       "    <tr>\n",
       "      <th>0</th>\n",
       "      <td>f124c390-90c3-4153-9ca1-8e80c0f30a2c</td>\n",
       "      <td>Nathalia Dal Bello</td>\n",
       "      <td>https://play-lh.googleusercontent.com/a-/ACB-R...</td>\n",
       "      <td>O aplicativo era ótimo, os descontos eram ótim...</td>\n",
       "      <td>1</td>\n",
       "      <td>3753</td>\n",
       "      <td>9.190.0</td>\n",
       "      <td>2023-01-23 20:52:04</td>\n",
       "      <td>9.190.0</td>\n",
       "      <td>most_relevant</td>\n",
       "      <td>br.com.brainweb.ifood</td>\n",
       "    </tr>\n",
       "    <tr>\n",
       "      <th>1</th>\n",
       "      <td>ce308907-5ebe-493e-b87a-0a12e0f4c1c5</td>\n",
       "      <td>Kenzo Osanai</td>\n",
       "      <td>https://play-lh.googleusercontent.com/a-/ACB-R...</td>\n",
       "      <td>Pior experiência que tive de suporte com um ap...</td>\n",
       "      <td>1</td>\n",
       "      <td>1452</td>\n",
       "      <td>9.191.0</td>\n",
       "      <td>2023-01-31 00:38:30</td>\n",
       "      <td>9.191.0</td>\n",
       "      <td>most_relevant</td>\n",
       "      <td>br.com.brainweb.ifood</td>\n",
       "    </tr>\n",
       "    <tr>\n",
       "      <th>2</th>\n",
       "      <td>0dc5a70e-8d04-4b5e-84b3-e1bcb922557b</td>\n",
       "      <td>Silvia Miranda</td>\n",
       "      <td>https://play-lh.googleusercontent.com/a-/ACB-R...</td>\n",
       "      <td>Não resolvem o problema do filtro. Filtro para...</td>\n",
       "      <td>1</td>\n",
       "      <td>12</td>\n",
       "      <td>9.204.0</td>\n",
       "      <td>2023-05-03 15:34:29</td>\n",
       "      <td>9.204.0</td>\n",
       "      <td>most_relevant</td>\n",
       "      <td>br.com.brainweb.ifood</td>\n",
       "    </tr>\n",
       "    <tr>\n",
       "      <th>3</th>\n",
       "      <td>accff4a0-f70e-485a-a85d-04fe3a2e7238</td>\n",
       "      <td>Bárbara Figueiredo</td>\n",
       "      <td>https://play-lh.googleusercontent.com/a-/ACB-R...</td>\n",
       "      <td>85% das compras chegam erradas, incompletas ou...</td>\n",
       "      <td>1</td>\n",
       "      <td>63</td>\n",
       "      <td>9.204.0</td>\n",
       "      <td>2023-05-01 17:47:53</td>\n",
       "      <td>9.204.0</td>\n",
       "      <td>most_relevant</td>\n",
       "      <td>br.com.brainweb.ifood</td>\n",
       "    </tr>\n",
       "    <tr>\n",
       "      <th>4</th>\n",
       "      <td>ec2fc975-0f38-4c2e-81c1-7b9dc7398faf</td>\n",
       "      <td>Pedro Renhe</td>\n",
       "      <td>https://play-lh.googleusercontent.com/a/AGNmyx...</td>\n",
       "      <td>O aplicativo já foi melhor, tinha mais cupons ...</td>\n",
       "      <td>1</td>\n",
       "      <td>37</td>\n",
       "      <td>9.202.1</td>\n",
       "      <td>2023-04-17 23:28:02</td>\n",
       "      <td>9.202.1</td>\n",
       "      <td>most_relevant</td>\n",
       "      <td>br.com.brainweb.ifood</td>\n",
       "    </tr>\n",
       "  </tbody>\n",
       "</table>\n",
       "</div>"
      ],
      "text/plain": [
       "                               reviewId            userName  \\\n",
       "0  f124c390-90c3-4153-9ca1-8e80c0f30a2c  Nathalia Dal Bello   \n",
       "1  ce308907-5ebe-493e-b87a-0a12e0f4c1c5        Kenzo Osanai   \n",
       "2  0dc5a70e-8d04-4b5e-84b3-e1bcb922557b      Silvia Miranda   \n",
       "3  accff4a0-f70e-485a-a85d-04fe3a2e7238  Bárbara Figueiredo   \n",
       "4  ec2fc975-0f38-4c2e-81c1-7b9dc7398faf         Pedro Renhe   \n",
       "\n",
       "                                           userImage  \\\n",
       "0  https://play-lh.googleusercontent.com/a-/ACB-R...   \n",
       "1  https://play-lh.googleusercontent.com/a-/ACB-R...   \n",
       "2  https://play-lh.googleusercontent.com/a-/ACB-R...   \n",
       "3  https://play-lh.googleusercontent.com/a-/ACB-R...   \n",
       "4  https://play-lh.googleusercontent.com/a/AGNmyx...   \n",
       "\n",
       "                                             content  score  thumbsUpCount  \\\n",
       "0  O aplicativo era ótimo, os descontos eram ótim...      1           3753   \n",
       "1  Pior experiência que tive de suporte com um ap...      1           1452   \n",
       "2  Não resolvem o problema do filtro. Filtro para...      1             12   \n",
       "3  85% das compras chegam erradas, incompletas ou...      1             63   \n",
       "4  O aplicativo já foi melhor, tinha mais cupons ...      1             37   \n",
       "\n",
       "  reviewCreatedVersion                   at appVersion      sortOrder  \\\n",
       "0              9.190.0  2023-01-23 20:52:04    9.190.0  most_relevant   \n",
       "1              9.191.0  2023-01-31 00:38:30    9.191.0  most_relevant   \n",
       "2              9.204.0  2023-05-03 15:34:29    9.204.0  most_relevant   \n",
       "3              9.204.0  2023-05-01 17:47:53    9.204.0  most_relevant   \n",
       "4              9.202.1  2023-04-17 23:28:02    9.202.1  most_relevant   \n",
       "\n",
       "                   appId  \n",
       "0  br.com.brainweb.ifood  \n",
       "1  br.com.brainweb.ifood  \n",
       "2  br.com.brainweb.ifood  \n",
       "3  br.com.brainweb.ifood  \n",
       "4  br.com.brainweb.ifood  "
      ]
     },
     "execution_count": 19,
     "metadata": {},
     "output_type": "execute_result"
    }
   ],
   "source": [
    "df_new.head()"
   ]
  },
  {
   "cell_type": "code",
   "execution_count": 21,
   "id": "8cb6f508",
   "metadata": {},
   "outputs": [
    {
     "data": {
      "text/plain": [
       "(3278, 11)"
      ]
     },
     "execution_count": 21,
     "metadata": {},
     "output_type": "execute_result"
    }
   ],
   "source": [
    "df_new.shape"
   ]
  },
  {
   "cell_type": "code",
   "execution_count": 25,
   "id": "72570430",
   "metadata": {},
   "outputs": [
    {
     "name": "stderr",
     "output_type": "stream",
     "text": [
      "C:\\Users\\S.D HAIDER\\AppData\\Local\\Temp\\ipykernel_23144\\1274885061.py:1: SettingWithCopyWarning: \n",
      "A value is trying to be set on a copy of a slice from a DataFrame.\n",
      "Try using .loc[row_indexer,col_indexer] = value instead\n",
      "\n",
      "See the caveats in the documentation: https://pandas.pydata.org/pandas-docs/stable/user_guide/indexing.html#returning-a-view-versus-a-copy\n",
      "  df_new['length']= df_new['content'].apply(lambda x : len(x) )\n"
     ]
    }
   ],
   "source": [
    "df_new['length']= df_new['content'].apply(lambda x : len(x) )"
   ]
  },
  {
   "cell_type": "code",
   "execution_count": 26,
   "id": "8627862c",
   "metadata": {},
   "outputs": [
    {
     "data": {
      "text/html": [
       "<div>\n",
       "<style scoped>\n",
       "    .dataframe tbody tr th:only-of-type {\n",
       "        vertical-align: middle;\n",
       "    }\n",
       "\n",
       "    .dataframe tbody tr th {\n",
       "        vertical-align: top;\n",
       "    }\n",
       "\n",
       "    .dataframe thead th {\n",
       "        text-align: right;\n",
       "    }\n",
       "</style>\n",
       "<table border=\"1\" class=\"dataframe\">\n",
       "  <thead>\n",
       "    <tr style=\"text-align: right;\">\n",
       "      <th></th>\n",
       "      <th>reviewId</th>\n",
       "      <th>userName</th>\n",
       "      <th>userImage</th>\n",
       "      <th>content</th>\n",
       "      <th>score</th>\n",
       "      <th>thumbsUpCount</th>\n",
       "      <th>reviewCreatedVersion</th>\n",
       "      <th>at</th>\n",
       "      <th>appVersion</th>\n",
       "      <th>sortOrder</th>\n",
       "      <th>appId</th>\n",
       "      <th>length</th>\n",
       "    </tr>\n",
       "  </thead>\n",
       "  <tbody>\n",
       "    <tr>\n",
       "      <th>0</th>\n",
       "      <td>f124c390-90c3-4153-9ca1-8e80c0f30a2c</td>\n",
       "      <td>Nathalia Dal Bello</td>\n",
       "      <td>https://play-lh.googleusercontent.com/a-/ACB-R...</td>\n",
       "      <td>O aplicativo era ótimo, os descontos eram ótim...</td>\n",
       "      <td>1</td>\n",
       "      <td>3753</td>\n",
       "      <td>9.190.0</td>\n",
       "      <td>2023-01-23 20:52:04</td>\n",
       "      <td>9.190.0</td>\n",
       "      <td>most_relevant</td>\n",
       "      <td>br.com.brainweb.ifood</td>\n",
       "      <td>348</td>\n",
       "    </tr>\n",
       "    <tr>\n",
       "      <th>1</th>\n",
       "      <td>ce308907-5ebe-493e-b87a-0a12e0f4c1c5</td>\n",
       "      <td>Kenzo Osanai</td>\n",
       "      <td>https://play-lh.googleusercontent.com/a-/ACB-R...</td>\n",
       "      <td>Pior experiência que tive de suporte com um ap...</td>\n",
       "      <td>1</td>\n",
       "      <td>1452</td>\n",
       "      <td>9.191.0</td>\n",
       "      <td>2023-01-31 00:38:30</td>\n",
       "      <td>9.191.0</td>\n",
       "      <td>most_relevant</td>\n",
       "      <td>br.com.brainweb.ifood</td>\n",
       "      <td>420</td>\n",
       "    </tr>\n",
       "    <tr>\n",
       "      <th>2</th>\n",
       "      <td>0dc5a70e-8d04-4b5e-84b3-e1bcb922557b</td>\n",
       "      <td>Silvia Miranda</td>\n",
       "      <td>https://play-lh.googleusercontent.com/a-/ACB-R...</td>\n",
       "      <td>Não resolvem o problema do filtro. Filtro para...</td>\n",
       "      <td>1</td>\n",
       "      <td>12</td>\n",
       "      <td>9.204.0</td>\n",
       "      <td>2023-05-03 15:34:29</td>\n",
       "      <td>9.204.0</td>\n",
       "      <td>most_relevant</td>\n",
       "      <td>br.com.brainweb.ifood</td>\n",
       "      <td>380</td>\n",
       "    </tr>\n",
       "    <tr>\n",
       "      <th>3</th>\n",
       "      <td>accff4a0-f70e-485a-a85d-04fe3a2e7238</td>\n",
       "      <td>Bárbara Figueiredo</td>\n",
       "      <td>https://play-lh.googleusercontent.com/a-/ACB-R...</td>\n",
       "      <td>85% das compras chegam erradas, incompletas ou...</td>\n",
       "      <td>1</td>\n",
       "      <td>63</td>\n",
       "      <td>9.204.0</td>\n",
       "      <td>2023-05-01 17:47:53</td>\n",
       "      <td>9.204.0</td>\n",
       "      <td>most_relevant</td>\n",
       "      <td>br.com.brainweb.ifood</td>\n",
       "      <td>426</td>\n",
       "    </tr>\n",
       "    <tr>\n",
       "      <th>4</th>\n",
       "      <td>ec2fc975-0f38-4c2e-81c1-7b9dc7398faf</td>\n",
       "      <td>Pedro Renhe</td>\n",
       "      <td>https://play-lh.googleusercontent.com/a/AGNmyx...</td>\n",
       "      <td>O aplicativo já foi melhor, tinha mais cupons ...</td>\n",
       "      <td>1</td>\n",
       "      <td>37</td>\n",
       "      <td>9.202.1</td>\n",
       "      <td>2023-04-17 23:28:02</td>\n",
       "      <td>9.202.1</td>\n",
       "      <td>most_relevant</td>\n",
       "      <td>br.com.brainweb.ifood</td>\n",
       "      <td>459</td>\n",
       "    </tr>\n",
       "    <tr>\n",
       "      <th>...</th>\n",
       "      <td>...</td>\n",
       "      <td>...</td>\n",
       "      <td>...</td>\n",
       "      <td>...</td>\n",
       "      <td>...</td>\n",
       "      <td>...</td>\n",
       "      <td>...</td>\n",
       "      <td>...</td>\n",
       "      <td>...</td>\n",
       "      <td>...</td>\n",
       "      <td>...</td>\n",
       "      <td>...</td>\n",
       "    </tr>\n",
       "    <tr>\n",
       "      <th>10794</th>\n",
       "      <td>7863d5cd-e2a7-4f59-91b6-cca51e3a8984</td>\n",
       "      <td>Roberto Bitelli</td>\n",
       "      <td>https://play-lh.googleusercontent.com/a-/ACB-R...</td>\n",
       "      <td>Top</td>\n",
       "      <td>5</td>\n",
       "      <td>0</td>\n",
       "      <td>9.0.3</td>\n",
       "      <td>2023-04-25 22:57:12</td>\n",
       "      <td>9.0.3</td>\n",
       "      <td>newest</td>\n",
       "      <td>com.vanuatu.aiqfome</td>\n",
       "      <td>3</td>\n",
       "    </tr>\n",
       "    <tr>\n",
       "      <th>10795</th>\n",
       "      <td>defc74c6-d22a-4fc8-b8e1-6dee69e61355</td>\n",
       "      <td>Rogério Cattaneo</td>\n",
       "      <td>https://play-lh.googleusercontent.com/a/AGNmyx...</td>\n",
       "      <td>Excelente</td>\n",
       "      <td>5</td>\n",
       "      <td>0</td>\n",
       "      <td>9.0.3</td>\n",
       "      <td>2023-04-25 22:48:21</td>\n",
       "      <td>9.0.3</td>\n",
       "      <td>newest</td>\n",
       "      <td>com.vanuatu.aiqfome</td>\n",
       "      <td>9</td>\n",
       "    </tr>\n",
       "    <tr>\n",
       "      <th>10796</th>\n",
       "      <td>95f2a8a4-b014-44bd-89ad-e625a882d222</td>\n",
       "      <td>Joaquim Sagioneti</td>\n",
       "      <td>https://play-lh.googleusercontent.com/a-/ACB-R...</td>\n",
       "      <td>Ótimo aplicativo</td>\n",
       "      <td>5</td>\n",
       "      <td>0</td>\n",
       "      <td>9.0.3</td>\n",
       "      <td>2023-04-25 22:40:39</td>\n",
       "      <td>9.0.3</td>\n",
       "      <td>newest</td>\n",
       "      <td>com.vanuatu.aiqfome</td>\n",
       "      <td>16</td>\n",
       "    </tr>\n",
       "    <tr>\n",
       "      <th>10797</th>\n",
       "      <td>ff88dbd0-0316-4c3c-81c7-adc1dc92ae77</td>\n",
       "      <td>Conta Edits</td>\n",
       "      <td>https://play-lh.googleusercontent.com/a/AGNmyx...</td>\n",
       "      <td>Muito prático e fácil de usar, o único defeito...</td>\n",
       "      <td>5</td>\n",
       "      <td>0</td>\n",
       "      <td>9.0.3</td>\n",
       "      <td>2023-04-25 21:22:47</td>\n",
       "      <td>9.0.3</td>\n",
       "      <td>newest</td>\n",
       "      <td>com.vanuatu.aiqfome</td>\n",
       "      <td>98</td>\n",
       "    </tr>\n",
       "    <tr>\n",
       "      <th>10799</th>\n",
       "      <td>a11ca7bc-485a-4912-b119-bec9a210a6a4</td>\n",
       "      <td>Ezequias Lima</td>\n",
       "      <td>https://play-lh.googleusercontent.com/a/AGNmyx...</td>\n",
       "      <td>Top de mais</td>\n",
       "      <td>5</td>\n",
       "      <td>0</td>\n",
       "      <td>9.0.3</td>\n",
       "      <td>2023-04-25 01:51:38</td>\n",
       "      <td>9.0.3</td>\n",
       "      <td>newest</td>\n",
       "      <td>com.vanuatu.aiqfome</td>\n",
       "      <td>11</td>\n",
       "    </tr>\n",
       "  </tbody>\n",
       "</table>\n",
       "<p>3278 rows × 12 columns</p>\n",
       "</div>"
      ],
      "text/plain": [
       "                                   reviewId            userName  \\\n",
       "0      f124c390-90c3-4153-9ca1-8e80c0f30a2c  Nathalia Dal Bello   \n",
       "1      ce308907-5ebe-493e-b87a-0a12e0f4c1c5        Kenzo Osanai   \n",
       "2      0dc5a70e-8d04-4b5e-84b3-e1bcb922557b      Silvia Miranda   \n",
       "3      accff4a0-f70e-485a-a85d-04fe3a2e7238  Bárbara Figueiredo   \n",
       "4      ec2fc975-0f38-4c2e-81c1-7b9dc7398faf         Pedro Renhe   \n",
       "...                                     ...                 ...   \n",
       "10794  7863d5cd-e2a7-4f59-91b6-cca51e3a8984     Roberto Bitelli   \n",
       "10795  defc74c6-d22a-4fc8-b8e1-6dee69e61355    Rogério Cattaneo   \n",
       "10796  95f2a8a4-b014-44bd-89ad-e625a882d222   Joaquim Sagioneti   \n",
       "10797  ff88dbd0-0316-4c3c-81c7-adc1dc92ae77         Conta Edits   \n",
       "10799  a11ca7bc-485a-4912-b119-bec9a210a6a4       Ezequias Lima   \n",
       "\n",
       "                                               userImage  \\\n",
       "0      https://play-lh.googleusercontent.com/a-/ACB-R...   \n",
       "1      https://play-lh.googleusercontent.com/a-/ACB-R...   \n",
       "2      https://play-lh.googleusercontent.com/a-/ACB-R...   \n",
       "3      https://play-lh.googleusercontent.com/a-/ACB-R...   \n",
       "4      https://play-lh.googleusercontent.com/a/AGNmyx...   \n",
       "...                                                  ...   \n",
       "10794  https://play-lh.googleusercontent.com/a-/ACB-R...   \n",
       "10795  https://play-lh.googleusercontent.com/a/AGNmyx...   \n",
       "10796  https://play-lh.googleusercontent.com/a-/ACB-R...   \n",
       "10797  https://play-lh.googleusercontent.com/a/AGNmyx...   \n",
       "10799  https://play-lh.googleusercontent.com/a/AGNmyx...   \n",
       "\n",
       "                                                 content  score  \\\n",
       "0      O aplicativo era ótimo, os descontos eram ótim...      1   \n",
       "1      Pior experiência que tive de suporte com um ap...      1   \n",
       "2      Não resolvem o problema do filtro. Filtro para...      1   \n",
       "3      85% das compras chegam erradas, incompletas ou...      1   \n",
       "4      O aplicativo já foi melhor, tinha mais cupons ...      1   \n",
       "...                                                  ...    ...   \n",
       "10794                                                Top      5   \n",
       "10795                                          Excelente      5   \n",
       "10796                                   Ótimo aplicativo      5   \n",
       "10797  Muito prático e fácil de usar, o único defeito...      5   \n",
       "10799                                        Top de mais      5   \n",
       "\n",
       "       thumbsUpCount reviewCreatedVersion                   at appVersion  \\\n",
       "0               3753              9.190.0  2023-01-23 20:52:04    9.190.0   \n",
       "1               1452              9.191.0  2023-01-31 00:38:30    9.191.0   \n",
       "2                 12              9.204.0  2023-05-03 15:34:29    9.204.0   \n",
       "3                 63              9.204.0  2023-05-01 17:47:53    9.204.0   \n",
       "4                 37              9.202.1  2023-04-17 23:28:02    9.202.1   \n",
       "...              ...                  ...                  ...        ...   \n",
       "10794              0                9.0.3  2023-04-25 22:57:12      9.0.3   \n",
       "10795              0                9.0.3  2023-04-25 22:48:21      9.0.3   \n",
       "10796              0                9.0.3  2023-04-25 22:40:39      9.0.3   \n",
       "10797              0                9.0.3  2023-04-25 21:22:47      9.0.3   \n",
       "10799              0                9.0.3  2023-04-25 01:51:38      9.0.3   \n",
       "\n",
       "           sortOrder                  appId  length  \n",
       "0      most_relevant  br.com.brainweb.ifood     348  \n",
       "1      most_relevant  br.com.brainweb.ifood     420  \n",
       "2      most_relevant  br.com.brainweb.ifood     380  \n",
       "3      most_relevant  br.com.brainweb.ifood     426  \n",
       "4      most_relevant  br.com.brainweb.ifood     459  \n",
       "...              ...                    ...     ...  \n",
       "10794         newest    com.vanuatu.aiqfome       3  \n",
       "10795         newest    com.vanuatu.aiqfome       9  \n",
       "10796         newest    com.vanuatu.aiqfome      16  \n",
       "10797         newest    com.vanuatu.aiqfome      98  \n",
       "10799         newest    com.vanuatu.aiqfome      11  \n",
       "\n",
       "[3278 rows x 12 columns]"
      ]
     },
     "execution_count": 26,
     "metadata": {},
     "output_type": "execute_result"
    }
   ],
   "source": [
    "df_new"
   ]
  },
  {
   "cell_type": "code",
   "execution_count": 29,
   "id": "46af2700",
   "metadata": {},
   "outputs": [],
   "source": [
    "df_new = pd.DataFrame(data=df_new,columns=['content','length','score'])"
   ]
  },
  {
   "cell_type": "code",
   "execution_count": 30,
   "id": "4b9f2397",
   "metadata": {},
   "outputs": [
    {
     "data": {
      "text/html": [
       "<div>\n",
       "<style scoped>\n",
       "    .dataframe tbody tr th:only-of-type {\n",
       "        vertical-align: middle;\n",
       "    }\n",
       "\n",
       "    .dataframe tbody tr th {\n",
       "        vertical-align: top;\n",
       "    }\n",
       "\n",
       "    .dataframe thead th {\n",
       "        text-align: right;\n",
       "    }\n",
       "</style>\n",
       "<table border=\"1\" class=\"dataframe\">\n",
       "  <thead>\n",
       "    <tr style=\"text-align: right;\">\n",
       "      <th></th>\n",
       "      <th>content</th>\n",
       "      <th>length</th>\n",
       "      <th>score</th>\n",
       "    </tr>\n",
       "  </thead>\n",
       "  <tbody>\n",
       "    <tr>\n",
       "      <th>0</th>\n",
       "      <td>O aplicativo era ótimo, os descontos eram ótim...</td>\n",
       "      <td>348</td>\n",
       "      <td>1</td>\n",
       "    </tr>\n",
       "    <tr>\n",
       "      <th>1</th>\n",
       "      <td>Pior experiência que tive de suporte com um ap...</td>\n",
       "      <td>420</td>\n",
       "      <td>1</td>\n",
       "    </tr>\n",
       "    <tr>\n",
       "      <th>2</th>\n",
       "      <td>Não resolvem o problema do filtro. Filtro para...</td>\n",
       "      <td>380</td>\n",
       "      <td>1</td>\n",
       "    </tr>\n",
       "    <tr>\n",
       "      <th>3</th>\n",
       "      <td>85% das compras chegam erradas, incompletas ou...</td>\n",
       "      <td>426</td>\n",
       "      <td>1</td>\n",
       "    </tr>\n",
       "    <tr>\n",
       "      <th>4</th>\n",
       "      <td>O aplicativo já foi melhor, tinha mais cupons ...</td>\n",
       "      <td>459</td>\n",
       "      <td>1</td>\n",
       "    </tr>\n",
       "  </tbody>\n",
       "</table>\n",
       "</div>"
      ],
      "text/plain": [
       "                                             content  length  score\n",
       "0  O aplicativo era ótimo, os descontos eram ótim...     348      1\n",
       "1  Pior experiência que tive de suporte com um ap...     420      1\n",
       "2  Não resolvem o problema do filtro. Filtro para...     380      1\n",
       "3  85% das compras chegam erradas, incompletas ou...     426      1\n",
       "4  O aplicativo já foi melhor, tinha mais cupons ...     459      1"
      ]
     },
     "execution_count": 30,
     "metadata": {},
     "output_type": "execute_result"
    }
   ],
   "source": [
    "df_new.head()"
   ]
  },
  {
   "cell_type": "code",
   "execution_count": 31,
   "id": "784ba99e",
   "metadata": {},
   "outputs": [],
   "source": [
    "import string"
   ]
  },
  {
   "cell_type": "code",
   "execution_count": 32,
   "id": "ed62ca51",
   "metadata": {},
   "outputs": [
    {
     "data": {
      "text/plain": [
       "'!\"#$%&\\'()*+,-./:;<=>?@[\\\\]^_`{|}~'"
      ]
     },
     "execution_count": 32,
     "metadata": {},
     "output_type": "execute_result"
    }
   ],
   "source": [
    "string.punctuation"
   ]
  },
  {
   "cell_type": "code",
   "execution_count": 33,
   "id": "c496073b",
   "metadata": {},
   "outputs": [],
   "source": [
    "df_new['nopunc'] = df_new['content'].apply(lambda x: [a for a in x if a not in string.punctuation])"
   ]
  },
  {
   "cell_type": "code",
   "execution_count": 34,
   "id": "c76deccd",
   "metadata": {},
   "outputs": [],
   "source": [
    "df_new = pd.DataFrame(data=df_new,columns=['nopunc','length','score'])"
   ]
  },
  {
   "cell_type": "code",
   "execution_count": 36,
   "id": "dd5dcd31",
   "metadata": {},
   "outputs": [],
   "source": [
    "df_new['nopunc'] = df_new['nopunc'].apply(''.join)"
   ]
  },
  {
   "cell_type": "code",
   "execution_count": 37,
   "id": "136e147b",
   "metadata": {},
   "outputs": [
    {
     "data": {
      "text/html": [
       "<div>\n",
       "<style scoped>\n",
       "    .dataframe tbody tr th:only-of-type {\n",
       "        vertical-align: middle;\n",
       "    }\n",
       "\n",
       "    .dataframe tbody tr th {\n",
       "        vertical-align: top;\n",
       "    }\n",
       "\n",
       "    .dataframe thead th {\n",
       "        text-align: right;\n",
       "    }\n",
       "</style>\n",
       "<table border=\"1\" class=\"dataframe\">\n",
       "  <thead>\n",
       "    <tr style=\"text-align: right;\">\n",
       "      <th></th>\n",
       "      <th>nopunc</th>\n",
       "      <th>length</th>\n",
       "      <th>score</th>\n",
       "    </tr>\n",
       "  </thead>\n",
       "  <tbody>\n",
       "    <tr>\n",
       "      <th>0</th>\n",
       "      <td>O aplicativo era ótimo os descontos eram ótimo...</td>\n",
       "      <td>348</td>\n",
       "      <td>1</td>\n",
       "    </tr>\n",
       "    <tr>\n",
       "      <th>1</th>\n",
       "      <td>Pior experiência que tive de suporte com um ap...</td>\n",
       "      <td>420</td>\n",
       "      <td>1</td>\n",
       "    </tr>\n",
       "    <tr>\n",
       "      <th>2</th>\n",
       "      <td>Não resolvem o problema do filtro Filtro para ...</td>\n",
       "      <td>380</td>\n",
       "      <td>1</td>\n",
       "    </tr>\n",
       "    <tr>\n",
       "      <th>3</th>\n",
       "      <td>85 das compras chegam erradas incompletas ou c...</td>\n",
       "      <td>426</td>\n",
       "      <td>1</td>\n",
       "    </tr>\n",
       "    <tr>\n",
       "      <th>4</th>\n",
       "      <td>O aplicativo já foi melhor tinha mais cupons e...</td>\n",
       "      <td>459</td>\n",
       "      <td>1</td>\n",
       "    </tr>\n",
       "    <tr>\n",
       "      <th>...</th>\n",
       "      <td>...</td>\n",
       "      <td>...</td>\n",
       "      <td>...</td>\n",
       "    </tr>\n",
       "    <tr>\n",
       "      <th>10794</th>\n",
       "      <td>Top</td>\n",
       "      <td>3</td>\n",
       "      <td>5</td>\n",
       "    </tr>\n",
       "    <tr>\n",
       "      <th>10795</th>\n",
       "      <td>Excelente</td>\n",
       "      <td>9</td>\n",
       "      <td>5</td>\n",
       "    </tr>\n",
       "    <tr>\n",
       "      <th>10796</th>\n",
       "      <td>Ótimo aplicativo</td>\n",
       "      <td>16</td>\n",
       "      <td>5</td>\n",
       "    </tr>\n",
       "    <tr>\n",
       "      <th>10797</th>\n",
       "      <td>Muito prático e fácil de usar o único defeito ...</td>\n",
       "      <td>98</td>\n",
       "      <td>5</td>\n",
       "    </tr>\n",
       "    <tr>\n",
       "      <th>10799</th>\n",
       "      <td>Top de mais</td>\n",
       "      <td>11</td>\n",
       "      <td>5</td>\n",
       "    </tr>\n",
       "  </tbody>\n",
       "</table>\n",
       "<p>3278 rows × 3 columns</p>\n",
       "</div>"
      ],
      "text/plain": [
       "                                                  nopunc  length  score\n",
       "0      O aplicativo era ótimo os descontos eram ótimo...     348      1\n",
       "1      Pior experiência que tive de suporte com um ap...     420      1\n",
       "2      Não resolvem o problema do filtro Filtro para ...     380      1\n",
       "3      85 das compras chegam erradas incompletas ou c...     426      1\n",
       "4      O aplicativo já foi melhor tinha mais cupons e...     459      1\n",
       "...                                                  ...     ...    ...\n",
       "10794                                                Top       3      5\n",
       "10795                                          Excelente       9      5\n",
       "10796                                   Ótimo aplicativo      16      5\n",
       "10797  Muito prático e fácil de usar o único defeito ...      98      5\n",
       "10799                                        Top de mais      11      5\n",
       "\n",
       "[3278 rows x 3 columns]"
      ]
     },
     "execution_count": 37,
     "metadata": {},
     "output_type": "execute_result"
    }
   ],
   "source": [
    "df_new"
   ]
  },
  {
   "cell_type": "code",
   "execution_count": 39,
   "id": "b6e7dcdf",
   "metadata": {},
   "outputs": [],
   "source": [
    "X=df_new['nopunc']\n",
    "y=df_new['score']"
   ]
  },
  {
   "cell_type": "code",
   "execution_count": 38,
   "id": "5e369b8a",
   "metadata": {},
   "outputs": [],
   "source": [
    "from sklearn.feature_extraction.text import CountVectorizer\n",
    "cv = CountVectorizer()"
   ]
  },
  {
   "cell_type": "code",
   "execution_count": 41,
   "id": "a2dc6b4d",
   "metadata": {},
   "outputs": [],
   "source": [
    "X= cv.fit_transform(X)"
   ]
  },
  {
   "cell_type": "code",
   "execution_count": 42,
   "id": "051baa51",
   "metadata": {},
   "outputs": [],
   "source": [
    "from sklearn.model_selection import train_test_split"
   ]
  },
  {
   "cell_type": "code",
   "execution_count": 43,
   "id": "77403850",
   "metadata": {},
   "outputs": [],
   "source": [
    "X_train,X_test,y_train,y_test = train_test_split(X,y,test_size=0.3,random_state=101)"
   ]
  },
  {
   "cell_type": "code",
   "execution_count": 44,
   "id": "27477628",
   "metadata": {},
   "outputs": [],
   "source": [
    "from sklearn.naive_bayes import MultinomialNB\n",
    "nb = MultinomialNB()"
   ]
  },
  {
   "cell_type": "code",
   "execution_count": 45,
   "id": "da99aefe",
   "metadata": {},
   "outputs": [
    {
     "data": {
      "text/html": [
       "<style>#sk-container-id-1 {color: black;background-color: white;}#sk-container-id-1 pre{padding: 0;}#sk-container-id-1 div.sk-toggleable {background-color: white;}#sk-container-id-1 label.sk-toggleable__label {cursor: pointer;display: block;width: 100%;margin-bottom: 0;padding: 0.3em;box-sizing: border-box;text-align: center;}#sk-container-id-1 label.sk-toggleable__label-arrow:before {content: \"▸\";float: left;margin-right: 0.25em;color: #696969;}#sk-container-id-1 label.sk-toggleable__label-arrow:hover:before {color: black;}#sk-container-id-1 div.sk-estimator:hover label.sk-toggleable__label-arrow:before {color: black;}#sk-container-id-1 div.sk-toggleable__content {max-height: 0;max-width: 0;overflow: hidden;text-align: left;background-color: #f0f8ff;}#sk-container-id-1 div.sk-toggleable__content pre {margin: 0.2em;color: black;border-radius: 0.25em;background-color: #f0f8ff;}#sk-container-id-1 input.sk-toggleable__control:checked~div.sk-toggleable__content {max-height: 200px;max-width: 100%;overflow: auto;}#sk-container-id-1 input.sk-toggleable__control:checked~label.sk-toggleable__label-arrow:before {content: \"▾\";}#sk-container-id-1 div.sk-estimator input.sk-toggleable__control:checked~label.sk-toggleable__label {background-color: #d4ebff;}#sk-container-id-1 div.sk-label input.sk-toggleable__control:checked~label.sk-toggleable__label {background-color: #d4ebff;}#sk-container-id-1 input.sk-hidden--visually {border: 0;clip: rect(1px 1px 1px 1px);clip: rect(1px, 1px, 1px, 1px);height: 1px;margin: -1px;overflow: hidden;padding: 0;position: absolute;width: 1px;}#sk-container-id-1 div.sk-estimator {font-family: monospace;background-color: #f0f8ff;border: 1px dotted black;border-radius: 0.25em;box-sizing: border-box;margin-bottom: 0.5em;}#sk-container-id-1 div.sk-estimator:hover {background-color: #d4ebff;}#sk-container-id-1 div.sk-parallel-item::after {content: \"\";width: 100%;border-bottom: 1px solid gray;flex-grow: 1;}#sk-container-id-1 div.sk-label:hover label.sk-toggleable__label {background-color: #d4ebff;}#sk-container-id-1 div.sk-serial::before {content: \"\";position: absolute;border-left: 1px solid gray;box-sizing: border-box;top: 0;bottom: 0;left: 50%;z-index: 0;}#sk-container-id-1 div.sk-serial {display: flex;flex-direction: column;align-items: center;background-color: white;padding-right: 0.2em;padding-left: 0.2em;position: relative;}#sk-container-id-1 div.sk-item {position: relative;z-index: 1;}#sk-container-id-1 div.sk-parallel {display: flex;align-items: stretch;justify-content: center;background-color: white;position: relative;}#sk-container-id-1 div.sk-item::before, #sk-container-id-1 div.sk-parallel-item::before {content: \"\";position: absolute;border-left: 1px solid gray;box-sizing: border-box;top: 0;bottom: 0;left: 50%;z-index: -1;}#sk-container-id-1 div.sk-parallel-item {display: flex;flex-direction: column;z-index: 1;position: relative;background-color: white;}#sk-container-id-1 div.sk-parallel-item:first-child::after {align-self: flex-end;width: 50%;}#sk-container-id-1 div.sk-parallel-item:last-child::after {align-self: flex-start;width: 50%;}#sk-container-id-1 div.sk-parallel-item:only-child::after {width: 0;}#sk-container-id-1 div.sk-dashed-wrapped {border: 1px dashed gray;margin: 0 0.4em 0.5em 0.4em;box-sizing: border-box;padding-bottom: 0.4em;background-color: white;}#sk-container-id-1 div.sk-label label {font-family: monospace;font-weight: bold;display: inline-block;line-height: 1.2em;}#sk-container-id-1 div.sk-label-container {text-align: center;}#sk-container-id-1 div.sk-container {/* jupyter's `normalize.less` sets `[hidden] { display: none; }` but bootstrap.min.css set `[hidden] { display: none !important; }` so we also need the `!important` here to be able to override the default hidden behavior on the sphinx rendered scikit-learn.org. See: https://github.com/scikit-learn/scikit-learn/issues/21755 */display: inline-block !important;position: relative;}#sk-container-id-1 div.sk-text-repr-fallback {display: none;}</style><div id=\"sk-container-id-1\" class=\"sk-top-container\"><div class=\"sk-text-repr-fallback\"><pre>MultinomialNB()</pre><b>In a Jupyter environment, please rerun this cell to show the HTML representation or trust the notebook. <br />On GitHub, the HTML representation is unable to render, please try loading this page with nbviewer.org.</b></div><div class=\"sk-container\" hidden><div class=\"sk-item\"><div class=\"sk-estimator sk-toggleable\"><input class=\"sk-toggleable__control sk-hidden--visually\" id=\"sk-estimator-id-1\" type=\"checkbox\" checked><label for=\"sk-estimator-id-1\" class=\"sk-toggleable__label sk-toggleable__label-arrow\">MultinomialNB</label><div class=\"sk-toggleable__content\"><pre>MultinomialNB()</pre></div></div></div></div></div>"
      ],
      "text/plain": [
       "MultinomialNB()"
      ]
     },
     "execution_count": 45,
     "metadata": {},
     "output_type": "execute_result"
    }
   ],
   "source": [
    "nb.fit(X_train,y_train)"
   ]
  },
  {
   "cell_type": "code",
   "execution_count": 46,
   "id": "01a6f443",
   "metadata": {},
   "outputs": [],
   "source": [
    "pred = nb.predict(X_test)"
   ]
  },
  {
   "cell_type": "code",
   "execution_count": 47,
   "id": "b16bee2d",
   "metadata": {},
   "outputs": [],
   "source": [
    "from sklearn.metrics import classification_report"
   ]
  },
  {
   "cell_type": "code",
   "execution_count": 48,
   "id": "543c5b94",
   "metadata": {},
   "outputs": [
    {
     "name": "stdout",
     "output_type": "stream",
     "text": [
      "              precision    recall  f1-score   support\n",
      "\n",
      "           1       0.88      0.95      0.92       489\n",
      "           5       0.95      0.87      0.91       495\n",
      "\n",
      "    accuracy                           0.91       984\n",
      "   macro avg       0.92      0.91      0.91       984\n",
      "weighted avg       0.92      0.91      0.91       984\n",
      "\n"
     ]
    }
   ],
   "source": [
    "print(classification_report(y_test,pred))"
   ]
  },
  {
   "cell_type": "code",
   "execution_count": 49,
   "id": "d34f0677",
   "metadata": {},
   "outputs": [],
   "source": [
    "from sklearn.feature_extraction.text import  TfidfTransformer"
   ]
  },
  {
   "cell_type": "code",
   "execution_count": 50,
   "id": "7563b3a7",
   "metadata": {},
   "outputs": [],
   "source": [
    "from sklearn.pipeline import Pipeline"
   ]
  },
  {
   "cell_type": "code",
   "execution_count": 51,
   "id": "cab77e48",
   "metadata": {},
   "outputs": [],
   "source": [
    "pipeline = Pipeline([\n",
    "    ('bow', CountVectorizer()),  # strings to token integer counts\n",
    "    ('tfidf', TfidfTransformer()),  # integer counts to weighted TF-IDF scores\n",
    "    ('classifier', MultinomialNB()),  # train on TF-IDF vectors w/ Naive Bayes classifier\n",
    "])"
   ]
  },
  {
   "cell_type": "code",
   "execution_count": 52,
   "id": "65a29729",
   "metadata": {},
   "outputs": [],
   "source": [
    "X=df_new['nopunc']\n",
    "y=df_new['score']\n",
    "X_train, X_test, y_train, y_test = train_test_split(X, y,test_size=0.3,random_state=101)"
   ]
  },
  {
   "cell_type": "code",
   "execution_count": 53,
   "id": "68ee37f1",
   "metadata": {},
   "outputs": [
    {
     "data": {
      "text/html": [
       "<style>#sk-container-id-2 {color: black;background-color: white;}#sk-container-id-2 pre{padding: 0;}#sk-container-id-2 div.sk-toggleable {background-color: white;}#sk-container-id-2 label.sk-toggleable__label {cursor: pointer;display: block;width: 100%;margin-bottom: 0;padding: 0.3em;box-sizing: border-box;text-align: center;}#sk-container-id-2 label.sk-toggleable__label-arrow:before {content: \"▸\";float: left;margin-right: 0.25em;color: #696969;}#sk-container-id-2 label.sk-toggleable__label-arrow:hover:before {color: black;}#sk-container-id-2 div.sk-estimator:hover label.sk-toggleable__label-arrow:before {color: black;}#sk-container-id-2 div.sk-toggleable__content {max-height: 0;max-width: 0;overflow: hidden;text-align: left;background-color: #f0f8ff;}#sk-container-id-2 div.sk-toggleable__content pre {margin: 0.2em;color: black;border-radius: 0.25em;background-color: #f0f8ff;}#sk-container-id-2 input.sk-toggleable__control:checked~div.sk-toggleable__content {max-height: 200px;max-width: 100%;overflow: auto;}#sk-container-id-2 input.sk-toggleable__control:checked~label.sk-toggleable__label-arrow:before {content: \"▾\";}#sk-container-id-2 div.sk-estimator input.sk-toggleable__control:checked~label.sk-toggleable__label {background-color: #d4ebff;}#sk-container-id-2 div.sk-label input.sk-toggleable__control:checked~label.sk-toggleable__label {background-color: #d4ebff;}#sk-container-id-2 input.sk-hidden--visually {border: 0;clip: rect(1px 1px 1px 1px);clip: rect(1px, 1px, 1px, 1px);height: 1px;margin: -1px;overflow: hidden;padding: 0;position: absolute;width: 1px;}#sk-container-id-2 div.sk-estimator {font-family: monospace;background-color: #f0f8ff;border: 1px dotted black;border-radius: 0.25em;box-sizing: border-box;margin-bottom: 0.5em;}#sk-container-id-2 div.sk-estimator:hover {background-color: #d4ebff;}#sk-container-id-2 div.sk-parallel-item::after {content: \"\";width: 100%;border-bottom: 1px solid gray;flex-grow: 1;}#sk-container-id-2 div.sk-label:hover label.sk-toggleable__label {background-color: #d4ebff;}#sk-container-id-2 div.sk-serial::before {content: \"\";position: absolute;border-left: 1px solid gray;box-sizing: border-box;top: 0;bottom: 0;left: 50%;z-index: 0;}#sk-container-id-2 div.sk-serial {display: flex;flex-direction: column;align-items: center;background-color: white;padding-right: 0.2em;padding-left: 0.2em;position: relative;}#sk-container-id-2 div.sk-item {position: relative;z-index: 1;}#sk-container-id-2 div.sk-parallel {display: flex;align-items: stretch;justify-content: center;background-color: white;position: relative;}#sk-container-id-2 div.sk-item::before, #sk-container-id-2 div.sk-parallel-item::before {content: \"\";position: absolute;border-left: 1px solid gray;box-sizing: border-box;top: 0;bottom: 0;left: 50%;z-index: -1;}#sk-container-id-2 div.sk-parallel-item {display: flex;flex-direction: column;z-index: 1;position: relative;background-color: white;}#sk-container-id-2 div.sk-parallel-item:first-child::after {align-self: flex-end;width: 50%;}#sk-container-id-2 div.sk-parallel-item:last-child::after {align-self: flex-start;width: 50%;}#sk-container-id-2 div.sk-parallel-item:only-child::after {width: 0;}#sk-container-id-2 div.sk-dashed-wrapped {border: 1px dashed gray;margin: 0 0.4em 0.5em 0.4em;box-sizing: border-box;padding-bottom: 0.4em;background-color: white;}#sk-container-id-2 div.sk-label label {font-family: monospace;font-weight: bold;display: inline-block;line-height: 1.2em;}#sk-container-id-2 div.sk-label-container {text-align: center;}#sk-container-id-2 div.sk-container {/* jupyter's `normalize.less` sets `[hidden] { display: none; }` but bootstrap.min.css set `[hidden] { display: none !important; }` so we also need the `!important` here to be able to override the default hidden behavior on the sphinx rendered scikit-learn.org. See: https://github.com/scikit-learn/scikit-learn/issues/21755 */display: inline-block !important;position: relative;}#sk-container-id-2 div.sk-text-repr-fallback {display: none;}</style><div id=\"sk-container-id-2\" class=\"sk-top-container\"><div class=\"sk-text-repr-fallback\"><pre>Pipeline(steps=[(&#x27;bow&#x27;, CountVectorizer()), (&#x27;tfidf&#x27;, TfidfTransformer()),\n",
       "                (&#x27;classifier&#x27;, MultinomialNB())])</pre><b>In a Jupyter environment, please rerun this cell to show the HTML representation or trust the notebook. <br />On GitHub, the HTML representation is unable to render, please try loading this page with nbviewer.org.</b></div><div class=\"sk-container\" hidden><div class=\"sk-item sk-dashed-wrapped\"><div class=\"sk-label-container\"><div class=\"sk-label sk-toggleable\"><input class=\"sk-toggleable__control sk-hidden--visually\" id=\"sk-estimator-id-2\" type=\"checkbox\" ><label for=\"sk-estimator-id-2\" class=\"sk-toggleable__label sk-toggleable__label-arrow\">Pipeline</label><div class=\"sk-toggleable__content\"><pre>Pipeline(steps=[(&#x27;bow&#x27;, CountVectorizer()), (&#x27;tfidf&#x27;, TfidfTransformer()),\n",
       "                (&#x27;classifier&#x27;, MultinomialNB())])</pre></div></div></div><div class=\"sk-serial\"><div class=\"sk-item\"><div class=\"sk-estimator sk-toggleable\"><input class=\"sk-toggleable__control sk-hidden--visually\" id=\"sk-estimator-id-3\" type=\"checkbox\" ><label for=\"sk-estimator-id-3\" class=\"sk-toggleable__label sk-toggleable__label-arrow\">CountVectorizer</label><div class=\"sk-toggleable__content\"><pre>CountVectorizer()</pre></div></div></div><div class=\"sk-item\"><div class=\"sk-estimator sk-toggleable\"><input class=\"sk-toggleable__control sk-hidden--visually\" id=\"sk-estimator-id-4\" type=\"checkbox\" ><label for=\"sk-estimator-id-4\" class=\"sk-toggleable__label sk-toggleable__label-arrow\">TfidfTransformer</label><div class=\"sk-toggleable__content\"><pre>TfidfTransformer()</pre></div></div></div><div class=\"sk-item\"><div class=\"sk-estimator sk-toggleable\"><input class=\"sk-toggleable__control sk-hidden--visually\" id=\"sk-estimator-id-5\" type=\"checkbox\" ><label for=\"sk-estimator-id-5\" class=\"sk-toggleable__label sk-toggleable__label-arrow\">MultinomialNB</label><div class=\"sk-toggleable__content\"><pre>MultinomialNB()</pre></div></div></div></div></div></div></div>"
      ],
      "text/plain": [
       "Pipeline(steps=[('bow', CountVectorizer()), ('tfidf', TfidfTransformer()),\n",
       "                ('classifier', MultinomialNB())])"
      ]
     },
     "execution_count": 53,
     "metadata": {},
     "output_type": "execute_result"
    }
   ],
   "source": [
    "pipeline.fit(X_train,y_train)"
   ]
  },
  {
   "cell_type": "code",
   "execution_count": 54,
   "id": "62409a69",
   "metadata": {},
   "outputs": [],
   "source": [
    "y_pred = pipeline.predict(X_test)"
   ]
  },
  {
   "cell_type": "code",
   "execution_count": 55,
   "id": "2ff49764",
   "metadata": {},
   "outputs": [
    {
     "name": "stdout",
     "output_type": "stream",
     "text": [
      "              precision    recall  f1-score   support\n",
      "\n",
      "           1       0.83      0.97      0.89       489\n",
      "           5       0.97      0.80      0.88       495\n",
      "\n",
      "    accuracy                           0.89       984\n",
      "   macro avg       0.90      0.89      0.89       984\n",
      "weighted avg       0.90      0.89      0.89       984\n",
      "\n"
     ]
    }
   ],
   "source": [
    "print(classification_report(y_test,y_pred))"
   ]
  },
  {
   "cell_type": "code",
   "execution_count": null,
   "id": "990b53c8",
   "metadata": {},
   "outputs": [],
   "source": []
  },
  {
   "cell_type": "code",
   "execution_count": null,
   "id": "02a68080",
   "metadata": {},
   "outputs": [],
   "source": []
  },
  {
   "cell_type": "code",
   "execution_count": null,
   "id": "fa20878f",
   "metadata": {},
   "outputs": [],
   "source": []
  },
  {
   "cell_type": "code",
   "execution_count": null,
   "id": "60187cf2",
   "metadata": {},
   "outputs": [],
   "source": []
  },
  {
   "cell_type": "code",
   "execution_count": null,
   "id": "14262ae7",
   "metadata": {},
   "outputs": [],
   "source": []
  }
 ],
 "metadata": {
  "kernelspec": {
   "display_name": "Python 3 (ipykernel)",
   "language": "python",
   "name": "python3"
  },
  "language_info": {
   "codemirror_mode": {
    "name": "ipython",
    "version": 3
   },
   "file_extension": ".py",
   "mimetype": "text/x-python",
   "name": "python",
   "nbconvert_exporter": "python",
   "pygments_lexer": "ipython3",
   "version": "3.9.13"
  }
 },
 "nbformat": 4,
 "nbformat_minor": 5
}
